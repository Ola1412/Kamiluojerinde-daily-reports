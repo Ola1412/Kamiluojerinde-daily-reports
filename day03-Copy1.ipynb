{
 "cells": [
  {
   "cell_type": "markdown",
   "id": "ffa2ac97",
   "metadata": {},
   "source": [
    "## Strings and Files"
   ]
  },
  {
   "cell_type": "code",
   "execution_count": 1,
   "id": "451142a4",
   "metadata": {},
   "outputs": [],
   "source": [
    "string_1 = \"Will you be at the meeting tonight?\"\n",
    "string_2 = '\"Yes\", he replies.'"
   ]
  },
  {
   "cell_type": "code",
   "execution_count": 2,
   "id": "464f13f1",
   "metadata": {},
   "outputs": [
    {
     "name": "stdout",
     "output_type": "stream",
     "text": [
      "Will you be at the meeting tonight?\n"
     ]
    }
   ],
   "source": [
    "print(string_1)"
   ]
  },
  {
   "cell_type": "code",
   "execution_count": 3,
   "id": "d35cf503",
   "metadata": {},
   "outputs": [
    {
     "name": "stdout",
     "output_type": "stream",
     "text": [
      "\"Yes\", he replies.\n"
     ]
    }
   ],
   "source": [
    "print(string_2)"
   ]
  },
  {
   "cell_type": "markdown",
   "id": "67d8c500",
   "metadata": {},
   "source": [
    "Indexing"
   ]
  },
  {
   "cell_type": "code",
   "execution_count": 4,
   "id": "b706925a",
   "metadata": {},
   "outputs": [
    {
     "data": {
      "text/plain": [
       "'W'"
      ]
     },
     "execution_count": 4,
     "metadata": {},
     "output_type": "execute_result"
    }
   ],
   "source": [
    "string_1[0]"
   ]
  },
  {
   "cell_type": "code",
   "execution_count": 5,
   "id": "31a65e2f",
   "metadata": {},
   "outputs": [
    {
     "data": {
      "text/plain": [
       "'l'"
      ]
     },
     "execution_count": 5,
     "metadata": {},
     "output_type": "execute_result"
    }
   ],
   "source": [
    "string_1[2]"
   ]
  },
  {
   "cell_type": "code",
   "execution_count": 6,
   "id": "d95a251c",
   "metadata": {},
   "outputs": [
    {
     "name": "stdout",
     "output_type": "stream",
     "text": [
      "The second character of my string is i\n"
     ]
    }
   ],
   "source": [
    "print(\"The second character of my string is\", string_1[1])"
   ]
  },
  {
   "cell_type": "markdown",
   "id": "fbd970e4",
   "metadata": {},
   "source": [
    "## Slicing\n",
    "``python\n",
    "    string[start:stop:step\n",
    "````"
   ]
  },
  {
   "cell_type": "code",
   "execution_count": 7,
   "id": "868f740f",
   "metadata": {},
   "outputs": [
    {
     "name": "stdout",
     "output_type": "stream",
     "text": [
      "Will you be at the meeting tonight?\n"
     ]
    },
    {
     "data": {
      "text/plain": [
       "'l o'"
      ]
     },
     "execution_count": 7,
     "metadata": {},
     "output_type": "execute_result"
    }
   ],
   "source": [
    "print(string_1)\n",
    "string_1[2:8:2]"
   ]
  },
  {
   "cell_type": "code",
   "execution_count": 8,
   "id": "753de6d5",
   "metadata": {},
   "outputs": [
    {
     "name": "stdout",
     "output_type": "stream",
     "text": [
      "HelloWorld\n",
      "WorldHello\n"
     ]
    }
   ],
   "source": [
    "my_var_1 = \"Hello\"\n",
    "\n",
    "my_var_2 = \"World\"\n",
    "concat = my_var_1 + my_var_2\n",
    "concat1 = my_var_2 + my_var_1\n",
    "print(concat)\n",
    "print(concat1)"
   ]
  },
  {
   "cell_type": "code",
   "execution_count": 10,
   "id": "2ce51f7e",
   "metadata": {},
   "outputs": [
    {
     "name": "stdout",
     "output_type": "stream",
     "text": [
      "WorldWorld\n"
     ]
    }
   ],
   "source": [
    "print(2*my_var_2)"
   ]
  },
  {
   "cell_type": "code",
   "execution_count": 27,
   "id": "8cb1d270",
   "metadata": {},
   "outputs": [],
   "source": [
    "string_5 = \"ADE is on the way\""
   ]
  },
  {
   "cell_type": "code",
   "execution_count": 28,
   "id": "b9cf3b4b",
   "metadata": {},
   "outputs": [
    {
     "data": {
      "text/plain": [
       "'Ade is on the way'"
      ]
     },
     "execution_count": 28,
     "metadata": {},
     "output_type": "execute_result"
    }
   ],
   "source": [
    "string_5.capitalize()"
   ]
  },
  {
   "cell_type": "code",
   "execution_count": 29,
   "id": "b9dfdde3",
   "metadata": {},
   "outputs": [],
   "source": [
    "string_5.zfill?"
   ]
  },
  {
   "cell_type": "code",
   "execution_count": 30,
   "id": "ef5f411b",
   "metadata": {},
   "outputs": [
    {
     "data": {
      "text/plain": [
       "False"
      ]
     },
     "execution_count": 30,
     "metadata": {},
     "output_type": "execute_result"
    }
   ],
   "source": [
    "string_5.istitle()"
   ]
  },
  {
   "cell_type": "code",
   "execution_count": 31,
   "id": "a0c931c2",
   "metadata": {},
   "outputs": [
    {
     "data": {
      "text/plain": [
       "False"
      ]
     },
     "execution_count": 31,
     "metadata": {},
     "output_type": "execute_result"
    }
   ],
   "source": [
    "string_5.isdigit()"
   ]
  },
  {
   "cell_type": "code",
   "execution_count": 32,
   "id": "db1b810e",
   "metadata": {},
   "outputs": [
    {
     "data": {
      "text/plain": [
       "'ade is on the way'"
      ]
     },
     "execution_count": 32,
     "metadata": {},
     "output_type": "execute_result"
    }
   ],
   "source": [
    "string_5.lower()"
   ]
  },
  {
   "cell_type": "code",
   "execution_count": 34,
   "id": "fe1cd6bc",
   "metadata": {},
   "outputs": [
    {
     "data": {
      "text/plain": [
       "['ADE', 'is', 'on', 'the', 'way']"
      ]
     },
     "execution_count": 34,
     "metadata": {},
     "output_type": "execute_result"
    }
   ],
   "source": [
    "string_5.split()"
   ]
  },
  {
   "cell_type": "code",
   "execution_count": 36,
   "id": "e2c24680",
   "metadata": {},
   "outputs": [
    {
     "data": {
      "text/plain": [
       "'ADE is on the way'"
      ]
     },
     "execution_count": 36,
     "metadata": {},
     "output_type": "execute_result"
    }
   ],
   "source": [
    "string_5.expandtabs()\n"
   ]
  },
  {
   "cell_type": "code",
   "execution_count": 37,
   "id": "68ccc5f6",
   "metadata": {},
   "outputs": [],
   "source": [
    "string_5.isdecimal?"
   ]
  },
  {
   "cell_type": "code",
   "execution_count": 38,
   "id": "8ef47c46",
   "metadata": {},
   "outputs": [
    {
     "data": {
      "text/plain": [
       "False"
      ]
     },
     "execution_count": 38,
     "metadata": {},
     "output_type": "execute_result"
    }
   ],
   "source": [
    "string_5.isdecimal()"
   ]
  },
  {
   "cell_type": "code",
   "execution_count": 40,
   "id": "cac77593",
   "metadata": {},
   "outputs": [],
   "source": [
    "string_5.islower?"
   ]
  },
  {
   "cell_type": "code",
   "execution_count": 1,
   "id": "37d2996b",
   "metadata": {},
   "outputs": [
    {
     "name": "stdout",
     "output_type": "stream",
     "text": [
      "02_Lecture02.ipynb\r\n",
      "command_mode.png\r\n",
      "day03.ipynb\r\n",
      "edit_mode.png\r\n",
      "Emily.png\r\n",
      "Kamiluojerinde-day002-report.ipynb\r\n",
      "Kamilu.ojerinde-day02-report.ipynb\r\n",
      "kamilu_ojerinde_PP1.ipynb\r\n",
      "menubar_toolbar.png\r\n",
      "Ola.png\r\n",
      "PyPro-SCiDaS-00.pdf\r\n",
      "PyPro-SCiDaS-day_00_introduction_to_jupyter_notebooks-Copy1.ipynb\r\n",
      "PyPro-SCiDaS-day_00_introduction_to_jupyter_notebooks.ipynb\r\n",
      "PyPro-SCiDaS-day_01a_introduction_to_python.ipynb\r\n",
      "PyPro-SCiDaS-day_01b_variables-and-assignment.ipynb\r\n",
      "testfile.txt\r\n",
      "Tutorial_1.ipynb\r\n"
     ]
    }
   ],
   "source": [
    "!dir"
   ]
  },
  {
   "cell_type": "code",
   "execution_count": null,
   "id": "f4ceba7d",
   "metadata": {},
   "outputs": [],
   "source": [
    "# %load testfile.txt\n",
    "fghij\n",
    "aims class\n",
    "Rwanda 2025\n",
    "this is really cool\n",
    "\n"
   ]
  },
  {
   "cell_type": "code",
   "execution_count": 4,
   "id": "77307f44",
   "metadata": {},
   "outputs": [],
   "source": [
    "f = open(\"testfile.txt\", \"r\")"
   ]
  },
  {
   "cell_type": "code",
   "execution_count": 5,
   "id": "0d4fc3f8",
   "metadata": {},
   "outputs": [
    {
     "data": {
      "text/plain": [
       "_io.TextIOWrapper"
      ]
     },
     "execution_count": 5,
     "metadata": {},
     "output_type": "execute_result"
    }
   ],
   "source": [
    "type(f)"
   ]
  },
  {
   "cell_type": "code",
   "execution_count": 6,
   "id": "11c1f4d8",
   "metadata": {},
   "outputs": [
    {
     "data": {
      "text/plain": [
       "['fghij\\n', 'aims class\\n', 'Rwanda 2025\\n', 'this is really cool\\n', '\\n']"
      ]
     },
     "execution_count": 6,
     "metadata": {},
     "output_type": "execute_result"
    }
   ],
   "source": [
    "f.readlines()"
   ]
  },
  {
   "cell_type": "code",
   "execution_count": 7,
   "id": "6ce72c87",
   "metadata": {},
   "outputs": [
    {
     "data": {
      "text/plain": [
       "''"
      ]
     },
     "execution_count": 7,
     "metadata": {},
     "output_type": "execute_result"
    }
   ],
   "source": [
    "f.read()"
   ]
  },
  {
   "cell_type": "code",
   "execution_count": 8,
   "id": "41cd9c08",
   "metadata": {},
   "outputs": [],
   "source": [
    "f.close()"
   ]
  },
  {
   "cell_type": "code",
   "execution_count": 9,
   "id": "08ebe0d5",
   "metadata": {},
   "outputs": [
    {
     "ename": "ValueError",
     "evalue": "I/O operation on closed file.",
     "output_type": "error",
     "traceback": [
      "\u001b[0;31m---------------------------------------------------------------------------\u001b[0m",
      "\u001b[0;31mValueError\u001b[0m                                Traceback (most recent call last)",
      "\u001b[0;32m<ipython-input-9-571e9fb02258>\u001b[0m in \u001b[0;36m<module>\u001b[0;34m\u001b[0m\n\u001b[0;32m----> 1\u001b[0;31m \u001b[0mf\u001b[0m\u001b[0;34m.\u001b[0m\u001b[0mread\u001b[0m\u001b[0;34m(\u001b[0m\u001b[0;34m)\u001b[0m\u001b[0;34m\u001b[0m\u001b[0;34m\u001b[0m\u001b[0m\n\u001b[0m",
      "\u001b[0;31mValueError\u001b[0m: I/O operation on closed file."
     ]
    }
   ],
   "source": [
    "f.read()"
   ]
  },
  {
   "cell_type": "code",
   "execution_count": 11,
   "id": "3b81bb0c",
   "metadata": {},
   "outputs": [],
   "source": [
    "to_write = open(\"outfile.txt\", \"w\")\n",
    "to_write.write(\"This is Thursday\")\n",
    "to_write.close()"
   ]
  },
  {
   "cell_type": "code",
   "execution_count": 12,
   "id": "a5a86d70",
   "metadata": {},
   "outputs": [
    {
     "data": {
      "text/plain": [
       "['This is Thursday']"
      ]
     },
     "execution_count": 12,
     "metadata": {},
     "output_type": "execute_result"
    }
   ],
   "source": [
    "to_write = open(\"outfile.txt\", \"r\")\n",
    "to_write.readlines()"
   ]
  }
 ],
 "metadata": {
  "kernelspec": {
   "display_name": "Python 3",
   "language": "python",
   "name": "python3"
  },
  "language_info": {
   "codemirror_mode": {
    "name": "ipython",
    "version": 3
   },
   "file_extension": ".py",
   "mimetype": "text/x-python",
   "name": "python",
   "nbconvert_exporter": "python",
   "pygments_lexer": "ipython3",
   "version": "3.9.2"
  }
 },
 "nbformat": 4,
 "nbformat_minor": 5
}
